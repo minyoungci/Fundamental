{
 "cells": [
  {
   "cell_type": "code",
   "execution_count": 1,
   "metadata": {},
   "outputs": [],
   "source": [
    "import torch\n",
    "import numpy as np"
   ]
  },
  {
   "cell_type": "code",
   "execution_count": 2,
   "metadata": {},
   "outputs": [
    {
     "data": {
      "text/plain": [
       "tensor([[0., 0., 0.,  ..., 0., 0., 0.],\n",
       "        [0., 0., 0.,  ..., 0., 0., 0.],\n",
       "        [0., 0., 0.,  ..., 0., 0., 0.],\n",
       "        ...,\n",
       "        [0., 0., 0.,  ..., 0., 0., 0.],\n",
       "        [0., 0., 0.,  ..., 0., 0., 0.],\n",
       "        [0., 0., 0.,  ..., 0., 0., 0.]])"
      ]
     },
     "execution_count": 2,
     "metadata": {},
     "output_type": "execute_result"
    }
   ],
   "source": [
    "pe = torch.zeros(50, 512)\n",
    "pe"
   ]
  },
  {
   "cell_type": "code",
   "execution_count": 3,
   "metadata": {},
   "outputs": [
    {
     "data": {
      "text/plain": [
       "torch.Size([50, 512])"
      ]
     },
     "execution_count": 3,
     "metadata": {},
     "output_type": "execute_result"
    }
   ],
   "source": [
    "pe.shape"
   ]
  },
  {
   "cell_type": "code",
   "execution_count": 5,
   "metadata": {},
   "outputs": [
    {
     "data": {
      "text/plain": [
       "torch.Size([50, 256])"
      ]
     },
     "execution_count": 5,
     "metadata": {},
     "output_type": "execute_result"
    }
   ],
   "source": [
    "pe[:, 0::2].shape"
   ]
  },
  {
   "cell_type": "markdown",
   "metadata": {},
   "source": [
    "# Unsqueeze()\n",
    "\n",
    "Unsqueeze() 함수는 PyTorch 텐서에 새로운 차원을 추가하는 메서드입니다. 이 함수는 지정된 위치에 크기가 1인 새 차원을 삽입합니다. 이는 텐서의 형상을 변경하는 데 유용하며, 특히 브로드캐스팅이나 특정 연산에 필요한 차원을 추가할 때 자주 사용됩니다."
   ]
  },
  {
   "cell_type": "code",
   "execution_count": 6,
   "metadata": {},
   "outputs": [
    {
     "name": "stdout",
     "output_type": "stream",
     "text": [
      "Original tensor a:\n",
      "tensor([1, 2, 3, 4])\n",
      "Shape of a: torch.Size([4])\n",
      "\n",
      "After a.unsqueeze(0):\n",
      "tensor([[1, 2, 3, 4]])\n",
      "Shape of b: torch.Size([1, 4])\n",
      "\n",
      "After a.unsqueeze(1):\n",
      "tensor([[1],\n",
      "        [2],\n",
      "        [3],\n",
      "        [4]])\n",
      "Shape of c: torch.Size([4, 1])\n",
      "\n",
      "Original 2D tensor d:\n",
      "tensor([[1, 2, 3],\n",
      "        [4, 5, 6]])\n",
      "Shape of d: torch.Size([2, 3])\n",
      "\n",
      "After d.unsqueeze(0):\n",
      "tensor([[[1, 2, 3],\n",
      "         [4, 5, 6]]])\n",
      "Shape of e: torch.Size([1, 2, 3])\n",
      "\n",
      "After d.unsqueeze(2):\n",
      "tensor([[[1],\n",
      "         [2],\n",
      "         [3]],\n",
      "\n",
      "        [[4],\n",
      "         [5],\n",
      "         [6]]])\n",
      "Shape of f: torch.Size([2, 3, 1])\n"
     ]
    }
   ],
   "source": [
    "import torch\n",
    "\n",
    "# 1차원 텐서 생성\n",
    "a = torch.tensor([1, 2, 3, 4])\n",
    "print(\"Original tensor a:\")\n",
    "print(a)\n",
    "print(\"Shape of a:\", a.shape)\n",
    "\n",
    "# 0번 인덱스에 차원 추가\n",
    "b = a.unsqueeze(0)\n",
    "print(\"\\nAfter a.unsqueeze(0):\")\n",
    "print(b)\n",
    "print(\"Shape of b:\", b.shape)\n",
    "\n",
    "# 1번 인덱스에 차원 추가\n",
    "c = a.unsqueeze(1)\n",
    "print(\"\\nAfter a.unsqueeze(1):\")\n",
    "print(c)\n",
    "print(\"Shape of c:\", c.shape)\n",
    "\n",
    "# 2차원 텐서 생성\n",
    "d = torch.tensor([[1, 2, 3], [4, 5, 6]])\n",
    "print(\"\\nOriginal 2D tensor d:\")\n",
    "print(d)\n",
    "print(\"Shape of d:\", d.shape)\n",
    "\n",
    "# 0번 인덱스에 차원 추가\n",
    "e = d.unsqueeze(0)\n",
    "print(\"\\nAfter d.unsqueeze(0):\")\n",
    "print(e)\n",
    "print(\"Shape of e:\", e.shape)\n",
    "\n",
    "# 2번 인덱스에 차원 추가\n",
    "f = d.unsqueeze(2)\n",
    "print(\"\\nAfter d.unsqueeze(2):\")\n",
    "print(f)\n",
    "print(\"Shape of f:\", f.shape)"
   ]
  },
  {
   "cell_type": "code",
   "execution_count": 10,
   "metadata": {},
   "outputs": [
    {
     "name": "stdout",
     "output_type": "stream",
     "text": [
      "torch.Size([2, 3])\n"
     ]
    },
    {
     "data": {
      "text/plain": [
       "tensor([[1, 2, 3],\n",
       "        [4, 5, 6]])"
      ]
     },
     "execution_count": 10,
     "metadata": {},
     "output_type": "execute_result"
    }
   ],
   "source": [
    "d = torch.tensor([[1, 2, 3], [4, 5, 6]])\n",
    "print(d.shape)  # torch.Size([2, 3])\n",
    "d"
   ]
  },
  {
   "cell_type": "code",
   "execution_count": 19,
   "metadata": {},
   "outputs": [
    {
     "data": {
      "text/plain": [
       "tensor([[[1],\n",
       "         [2],\n",
       "         [3]],\n",
       "\n",
       "        [[4],\n",
       "         [5],\n",
       "         [6]]])"
      ]
     },
     "execution_count": 19,
     "metadata": {},
     "output_type": "execute_result"
    }
   ],
   "source": [
    "d.unsqueeze(2)"
   ]
  }
 ],
 "metadata": {
  "kernelspec": {
   "display_name": "Python 3",
   "language": "python",
   "name": "python3"
  },
  "language_info": {
   "codemirror_mode": {
    "name": "ipython",
    "version": 3
   },
   "file_extension": ".py",
   "mimetype": "text/x-python",
   "name": "python",
   "nbconvert_exporter": "python",
   "pygments_lexer": "ipython3",
   "version": "3.8.16"
  }
 },
 "nbformat": 4,
 "nbformat_minor": 2
}
