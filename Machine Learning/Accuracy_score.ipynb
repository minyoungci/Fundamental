{
 "cells": [
  {
   "cell_type": "markdown",
   "metadata": {},
   "source": [
    "Example:\n",
    "    \n",
    "y_true = np.array([1, 0, 1, 1, 0, 1])\n",
    "\n",
    "y_pred = np.array([1, 0, 0, 1, 0, 1])\n",
    "\n",
    "output = accuracy_score(y_true, y_pred)\n",
    "\n",
    "print(output)\n",
    "\n",
    "Output:0.8333333333333334\n",
    "\n",
    "\n",
    "Reasoning:\n",
    "\n",
    "The function compares the true labels with the predicted labels and calculates the ratio of correct predictions to the total number of predictions. In this example, there are 5 correct predictions out of 6, resulting in an accuracy score of 0.8333333333333334.\n",
    "    "
   ]
  },
  {
   "cell_type": "markdown",
   "metadata": {},
   "source": [
    "# Accuracy Score - 정확도\n",
    "\n",
    "classification 모델의 퍼포먼스를 평가하는 평가지표로 사용되는 것을 Accuracy(정확도)라고 합니다.\n",
    "\n",
    "전체 예측값에서 올바른 예측값의 비율로 구할 수 있습니다. 수식으로 확인해보면 \n",
    "\n",
    "$ Accuracy = \\frac{Number of Correct Predictions}{Total Number of Predictions}$\n",
    "\n",
    "위의 예시처럼 실제값과 예측값이 주어졌다고 했을 때 accuracy score를 구할 수 있는 함수를 쓸 수 있습니다.\n",
    "\n",
    "함수는 두 배열을 비교하고 일치하는 요소의 비율로 정확도를 계산합니다.\n",
    "\n",
    "정확도는 분류 task에서 자주 사용되는 평가 지표입니다. 다양한 평가 지표가 있지만 정확도는 빠르게 모델의 성능을 체크할 수 있습니다. \n"
   ]
  },
  {
   "cell_type": "code",
   "execution_count": 1,
   "metadata": {},
   "outputs": [
    {
     "data": {
      "text/plain": [
       "0.8333333333333334"
      ]
     },
     "execution_count": 1,
     "metadata": {},
     "output_type": "execute_result"
    }
   ],
   "source": [
    "import numpy as np\n",
    "\n",
    "y_true = np.array([1, 0, 1, 1, 0, 1])\n",
    "\n",
    "y_pred = np.array([1, 0, 0, 1, 0, 1])\n",
    "\n",
    "\n",
    "def accuracy_score(y_true, y_pred):\n",
    "    accuracy = np.sum(y_true == y_pred) / len(y_true)\n",
    "    return accuracy \n",
    "\n",
    "accuracy_score(y_true, y_pred)"
   ]
  }
 ],
 "metadata": {
  "kernelspec": {
   "display_name": "Python 3",
   "language": "python",
   "name": "python3"
  },
  "language_info": {
   "codemirror_mode": {
    "name": "ipython",
    "version": 3
   },
   "file_extension": ".py",
   "mimetype": "text/x-python",
   "name": "python",
   "nbconvert_exporter": "python",
   "pygments_lexer": "ipython3",
   "version": "3.10.12"
  }
 },
 "nbformat": 4,
 "nbformat_minor": 2
}
