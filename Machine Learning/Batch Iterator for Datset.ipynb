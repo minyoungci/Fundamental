{
 "cells": [
  {
   "cell_type": "markdown",
   "metadata": {},
   "source": [
    "# Batch Iteration \n",
    "\n",
    "**배치 반복(Batch Iteration)** 은 머신 러닝 및 데이터 처리에서 대용량 데이터 세트를 보다 효율적으로 처리하기 위해 사용되는 스킬입니다. \n",
    "\n",
    "메모리 집약적일 수 있는 전체 데이터 세트를 한 번에 처리하는 대신, 데이터는 더 작고 관리하기 쉬운 배치로 처리됩니다. \n",
    "\n",
    "Batch Iterator(배치 반복자)를 만드는 단계별 방법은 아래와 같습니다. \n",
    "\n",
    "- 샘플 수 결정(Dtermine the Number of Samples) : 데이터 세트의 총 샘플 수를 계산합니다. \n",
    "\n",
    "- 배치로 반복(Iterate in Batches) : 지정된 배치 크기 단위로 데이터 세트를 반복합니다. \n",
    "\n",
    "- 배치 생성(Yield Batches) : 각 반복에서 X에서 샘플 배치를 생성하고, 만약 제공된 경우 y에서 해당 샘플을 생성합니다. \n",
    "\n",
    "이러한 방법은 효율적인 처리를 보장하고 머신 러닝 워크 플로우의 학습 및 평가 단계에 모두 사용할 수 있습니다.\n",
    "\n",
    "## Example\n",
    "\n",
    "```python\n",
    "    X = np.array([[1, 2], \n",
    "                  [3, 4], \n",
    "                  [5, 6], \n",
    "                  [7, 8], \n",
    "                  [9, 10]])\n",
    "    y = np.array([1, 2, 3, 4, 5])\n",
    "    batch_size = 2\n",
    "    batch_iterator(X, y, batch_size)\n",
    "    output:\n",
    "    [[[[1, 2], [3, 4]], [1, 2]],\n",
    "     [[[5, 6], [7, 8]], [3, 4]],\n",
    "     [[[9, 10]], [5]]]\n",
    "\n",
    "```"
   ]
  },
  {
   "cell_type": "code",
   "execution_count": 22,
   "metadata": {},
   "outputs": [],
   "source": [
    "import numpy as np\n",
    "\n",
    "X = np.array([[1, 2], \n",
    "                  [3, 4], \n",
    "                  [5, 6], \n",
    "                  [7, 8], \n",
    "                  [9, 10]])\n",
    "\n",
    "y = np.array([1,2,3,4,5])"
   ]
  },
  {
   "cell_type": "code",
   "execution_count": 32,
   "metadata": {},
   "outputs": [],
   "source": [
    "\n",
    "def batch_iterator(X, y=None, batch_size=None):\n",
    "    n_samples = X.shape[0]\n",
    "    batches = []\n",
    "    for i in range(0, n_samples, batch_size):\n",
    "        begin, end = i, min(i+batch_size, n_samples)\n",
    "        print(begin, end)\n",
    "\n",
    "        if y is not None:\n",
    "            batches.append([X[begin:end], y[begin:end]])\n",
    "\n",
    "        else:\n",
    "            batches.append(X[begin:end])    \n",
    "        \n",
    "        print(batches)\n",
    "\n",
    "    return batches"
   ]
  },
  {
   "cell_type": "code",
   "execution_count": 34,
   "metadata": {},
   "outputs": [
    {
     "name": "stdout",
     "output_type": "stream",
     "text": [
      "0 5\n",
      "[[array([[ 1,  2],\n",
      "       [ 3,  4],\n",
      "       [ 5,  6],\n",
      "       [ 7,  8],\n",
      "       [ 9, 10]]), array([1, 2, 3, 4, 5])]]\n"
     ]
    },
    {
     "data": {
      "text/plain": [
       "[[array([[ 1,  2],\n",
       "         [ 3,  4],\n",
       "         [ 5,  6],\n",
       "         [ 7,  8],\n",
       "         [ 9, 10]]),\n",
       "  array([1, 2, 3, 4, 5])]]"
      ]
     },
     "execution_count": 34,
     "metadata": {},
     "output_type": "execute_result"
    }
   ],
   "source": [
    "batch_iterator(X,y,batch_size=64)"
   ]
  },
  {
   "cell_type": "code",
   "execution_count": null,
   "metadata": {},
   "outputs": [],
   "source": []
  }
 ],
 "metadata": {
  "kernelspec": {
   "display_name": "Python 3",
   "language": "python",
   "name": "python3"
  },
  "language_info": {
   "codemirror_mode": {
    "name": "ipython",
    "version": 3
   },
   "file_extension": ".py",
   "mimetype": "text/x-python",
   "name": "python",
   "nbconvert_exporter": "python",
   "pygments_lexer": "ipython3",
   "version": "3.10.12"
  }
 },
 "nbformat": 4,
 "nbformat_minor": 2
}
