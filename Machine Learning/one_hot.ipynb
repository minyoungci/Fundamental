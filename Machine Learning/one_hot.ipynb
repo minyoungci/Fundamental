{
 "cells": [
  {
   "cell_type": "markdown",
   "metadata": {},
   "source": [
    "원-핫 인코딩은 범주형 변수를 이진 벡터로 표현하는 방법입니다. 이 기법은 순서 관계가 없는 범주형 데이터를 다룰 때 머신러닝에서 유용하게 사용됩니다.\n",
    "원-핫 인코딩에서 각 범주는 범주의 수와 같은 길이를 가진 이진 벡터로 표현됩니다. 이 벡터는 해당 범주에 해당하는 인덱스에서는 1의 값을, 다른 모든 인덱스에서는 0의 값을 갖습니다.\n",
    "예를 들어, 0, 1, 2 세 가지 범주가 있다면, 원-핫 인코딩된 벡터는 다음과 같습니다:\n",
    "\n",
    "0: [1,0,0]\n",
    "1: [0,1,0]\n",
    "2: [0,0,1]\n",
    "\n",
    "이 방법은 모델이 범주 간에 순서 관계를 가정하지 않도록 보장합니다. 이는 많은 머신러닝 알고리즘에서 중요합니다."
   ]
  },
  {
   "cell_type": "code",
   "execution_count": 5,
   "metadata": {},
   "outputs": [
    {
     "name": "stdout",
     "output_type": "stream",
     "text": [
      "[[1. 0. 0.]\n",
      " [0. 1. 0.]\n",
      " [0. 0. 1.]\n",
      " [0. 1. 0.]\n",
      " [1. 0. 0.]]\n"
     ]
    }
   ],
   "source": [
    "import numpy as np\n",
    "\n",
    "def to_categorical(x, n_col=None):\n",
    "    if not n_col:\n",
    "        n_col = np.amax(x) + 1\n",
    "    one_hot = np.zeros((x.shape[0], n_col))\n",
    "    one_hot[np.arange(x.shape[0]), x] = 1\n",
    "    return one_hot\n",
    "\n",
    "x = np.array([0, 1, 2, 1, 0])\n",
    "output = to_categorical(x)\n",
    "print(output)"
   ]
  },
  {
   "cell_type": "markdown",
   "metadata": {},
   "source": [
    "`one_hot[np.arange(x.shape[0]), x] = 1`\n",
    "\n",
    "np.arange(x.shape[0])는 0부터 x.shape[0]-1까지의 인덱스 배열을 생성합니다.\n",
    "\n",
    "\n",
    "이 인덱스 배열과 x의 값을 사용하여 one_hot 배열의 해당 위치에 1을 할당합니다."
   ]
  },
  {
   "cell_type": "code",
   "execution_count": 10,
   "metadata": {},
   "outputs": [
    {
     "data": {
      "text/plain": [
       "2"
      ]
     },
     "execution_count": 10,
     "metadata": {},
     "output_type": "execute_result"
    }
   ],
   "source": [
    "np.amax(x) # array max 값"
   ]
  },
  {
   "cell_type": "code",
   "execution_count": 16,
   "metadata": {},
   "outputs": [
    {
     "data": {
      "text/plain": [
       "5"
      ]
     },
     "execution_count": 16,
     "metadata": {},
     "output_type": "execute_result"
    }
   ],
   "source": [
    "x.shape[0]"
   ]
  },
  {
   "cell_type": "code",
   "execution_count": 14,
   "metadata": {},
   "outputs": [
    {
     "data": {
      "text/plain": [
       "array([0, 1, 2, 3, 4])"
      ]
     },
     "execution_count": 14,
     "metadata": {},
     "output_type": "execute_result"
    }
   ],
   "source": [
    "np.arange(x.shape[0])"
   ]
  }
 ],
 "metadata": {
  "kernelspec": {
   "display_name": "TorchEnv",
   "language": "python",
   "name": "python3"
  },
  "language_info": {
   "codemirror_mode": {
    "name": "ipython",
    "version": 3
   },
   "file_extension": ".py",
   "mimetype": "text/x-python",
   "name": "python",
   "nbconvert_exporter": "python",
   "pygments_lexer": "ipython3",
   "version": "3.8.16"
  }
 },
 "nbformat": 4,
 "nbformat_minor": 2
}
