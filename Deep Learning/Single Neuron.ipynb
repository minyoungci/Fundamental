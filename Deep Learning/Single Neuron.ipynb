{
 "cells": [
  {
   "cell_type": "markdown",
   "metadata": {},
   "source": [
    "# Single Neuron"
   ]
  },
  {
   "cell_type": "markdown",
   "metadata": {},
   "source": [
    "- $z$ 는 입력 데이터에 가중치를 곱해서 바이어스를 더한 값이고\n",
    "\n",
    "- $\\sigma(z)$ 는 시그모이드 활성화 함수의 결과입니다.\n",
    "\n",
    "- $predicted$ 는 $\\hat{y}$ 으로 표기할 수 있으며 활성화 함수(시그모이드)를 거친 값의 확률값입니다.\n",
    "\n",
    "- $true$ 는 실제 이진 레이블 값입니다.\n",
    "\n",
    "\n",
    "\n",
    "$z = \\sum_{i=1}^{n} (weight_i \\cdot feature_i) + bias$\n",
    "\n",
    "\n",
    "$\\sigma(z) = \\frac{1}{1 + e^{-z}}$\n",
    "\n",
    "\n",
    "$\\text{MSE} = \\frac{1}{n} \\sum (prediction - true)^2$"
   ]
  },
  {
   "cell_type": "code",
   "execution_count": 2,
   "metadata": {},
   "outputs": [],
   "source": [
    "import math\n",
    "\n",
    "def single_neuron_model(features, labels, weights, bias):\n",
    "    probabilities = []\n",
    "\n",
    "    for feature_vector in features:\n",
    "        z = sum(weight * feature for weight, feature in zip(weights, feature_vector)) + bias\n",
    "        prob = 1 / (1 + math.exp(-z)) # 시그모이드\n",
    "        probabilities.append(round(prob, 4))\n",
    "    \n",
    "    mse = sum((prob - label) ** 2 for prob, label in zip(probabilities, labels)) / len(labels)\n",
    "    mse = round(mse, 4)\n",
    "    \n",
    "    return probabilities, mse"
   ]
  },
  {
   "cell_type": "code",
   "execution_count": 3,
   "metadata": {},
   "outputs": [
    {
     "name": "stdout",
     "output_type": "stream",
     "text": [
      "Probabilities: [0.525, 0.5744, 0.7109, 0.7503]\n",
      "MSE: 0.2561\n"
     ]
    }
   ],
   "source": [
    "# 예시 데이터\n",
    "# 네 개의 특징 벡터와 이진 레이블을 사용하여 단일 뉴런을 평가합니다. 각 특징 벡터에 대해 시그모이드 함수를 통해 확률을 계산하고 실제 레이블과 비교하여 MSE를 계산합니다.\n",
    "\n",
    "features = [\n",
    "    [0.5, 1.5],\n",
    "    [1.0, 2.0],\n",
    "    [1.5, 0.5],\n",
    "    [2.0, 1.0]\n",
    "]\n",
    "labels = [0, 1, 0, 1]\n",
    "weights = [0.6, -0.2]\n",
    "bias = 0.1\n",
    "\n",
    "# 함수 실행\n",
    "probabilities, mse = single_neuron_model(features, labels, weights, bias)\n",
    "\n",
    "# 결과 출력\n",
    "print(\"Probabilities:\", probabilities)\n",
    "print(\"MSE:\", mse)"
   ]
  },
  {
   "cell_type": "code",
   "execution_count": null,
   "metadata": {},
   "outputs": [],
   "source": []
  }
 ],
 "metadata": {
  "kernelspec": {
   "display_name": "Python 3",
   "language": "python",
   "name": "python3"
  },
  "language_info": {
   "codemirror_mode": {
    "name": "ipython",
    "version": 3
   },
   "file_extension": ".py",
   "mimetype": "text/x-python",
   "name": "python",
   "nbconvert_exporter": "python",
   "pygments_lexer": "ipython3",
   "version": "3.10.12"
  }
 },
 "nbformat": 4,
 "nbformat_minor": 2
}
